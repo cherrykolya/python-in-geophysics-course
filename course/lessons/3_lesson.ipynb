{
 "cells": [
  {
   "cell_type": "markdown",
   "metadata": {},
   "source": [
    "## Процессы и потоки в Python\n",
    "\n",
    "В Python можно параллельно выполнять задачи с помощью потоков (threads) и процессов (processes). В этой теме мы рассмотрим, как создавать и использовать потоки и процессы для эффективного выполнения параллельных вычислений.\n"
   ]
  },
  {
   "cell_type": "markdown",
   "metadata": {},
   "source": [
    "![потоки](https://uwpce-pythoncert.github.io/SystemDevelopment/_images/gil.png)"
   ]
  },
  {
   "cell_type": "markdown",
   "metadata": {},
   "source": [
    "### Пример оптмизиации IO-bound-нагрузки через потоки"
   ]
  },
  {
   "cell_type": "code",
   "execution_count": 1,
   "metadata": {},
   "outputs": [],
   "source": [
    "import time\n",
    "\n",
    "# Декоратор для измерения времени выполнения функции\n",
    "def measure_time(func):\n",
    "    def wrapper(*args, **kwargs):\n",
    "        start_time = time.time()\n",
    "        result = func(*args, **kwargs)\n",
    "        end_time = time.time()\n",
    "        print(f\"Время выполнения {func.__name__}: {end_time - start_time:.5f} секунд\")\n",
    "        return result\n",
    "    return wrapper"
   ]
  },
  {
   "cell_type": "code",
   "execution_count": 2,
   "metadata": {},
   "outputs": [
    {
     "name": "stdout",
     "output_type": "stream",
     "text": [
      "Время выполнения io_bound_task: 2.00504 секунд\n",
      "Время выполнения cpu_bound_task: 1.64979 секунд\n"
     ]
    }
   ],
   "source": [
    "\n",
    "from concurrent.futures import ThreadPoolExecutor, as_completed\n",
    "\n",
    "\n",
    "# Пример IO-bound задачи: имитация задержки (например, запрос к серверу)\n",
    "@measure_time\n",
    "def io_bound_task():\n",
    "    time.sleep(2)  # Имитируем задержку 2 секунды\n",
    "    return \"IO-bound task completed\"\n",
    "\n",
    "# Пример CPU-bound задачи: вычисления с использованием математических операций\n",
    "@measure_time\n",
    "def cpu_bound_task():\n",
    "    result = 0\n",
    "    for i in range(1, 100_000_000):\n",
    "        result += 1\n",
    "    return \n",
    "\n",
    "# Измерение времени для одной IO-bound задачи\n",
    "io_bound_task()\n",
    "\n",
    "# Измерение времени для одной CPU-bound задачи\n",
    "cpu_bound_task()"
   ]
  },
  {
   "cell_type": "code",
   "execution_count": 3,
   "metadata": {},
   "outputs": [
    {
     "name": "stdout",
     "output_type": "stream",
     "text": [
      "Время выполнения io_bound_task: 2.00430 секундВремя выполнения io_bound_task: 2.00384 секунд\n",
      "Время выполнения io_bound_task: 2.00431 секунд\n",
      "Время выполнения io_bound_task: 2.00384 секунд\n",
      "\n",
      "Время выполнения io_bound_task: 2.00504 секунд\n",
      "Время выполнения run_multiple_io_tasks: 2.00634 секунд\n",
      "Время выполнения cpu_bound_task: 7.66575 секундВремя выполнения cpu_bound_task: 7.60932 секунд\n",
      "\n",
      "Время выполнения cpu_bound_task: 7.83046 секунд\n",
      "Время выполнения cpu_bound_task: 7.85536 секунд\n",
      "Время выполнения cpu_bound_task: 7.93217 секунд\n",
      "Время выполнения run_multiple_cpu_tasks: 7.93267 секунд\n"
     ]
    }
   ],
   "source": [
    "# Измерение времени для 5 IO-bound задач с использованием ThreadPoolExecutor\n",
    "@measure_time\n",
    "def run_multiple_io_tasks():\n",
    "    with ThreadPoolExecutor(max_workers=5) as executor:\n",
    "        futures = [executor.submit(io_bound_task) for _ in range(5)]\n",
    "        for future in as_completed(futures):\n",
    "            future.result()  # Ожидаем завершения задачи\n",
    "\n",
    "run_multiple_io_tasks()\n",
    "\n",
    "# Измерение времени для 5 CPU-bound задач с использованием ThreadPoolExecutor\n",
    "@measure_time\n",
    "def run_multiple_cpu_tasks():\n",
    "    with ThreadPoolExecutor(max_workers=5) as executor:\n",
    "        futures = [executor.submit(cpu_bound_task) for _ in range(5)]\n",
    "        for future in as_completed(futures):\n",
    "            future.result()  # Ожидаем завершения задачи\n",
    "\n",
    "run_multiple_cpu_tasks()"
   ]
  },
  {
   "cell_type": "markdown",
   "metadata": {},
   "source": [
    "### Пример оптимизации CPU-bound нагрузки через процессы"
   ]
  },
  {
   "cell_type": "code",
   "execution_count": null,
   "metadata": {},
   "outputs": [],
   "source": [
    "from concurrent.futures import ProcessPoolExecutor, as_completed\n",
    "\n",
    "@measure_time\n",
    "def run_multiple_io_tasks():\n",
    "    with ProcessPoolExecutor(max_workers=5) as executor:\n",
    "        futures = [executor.submit(io_bound_task) for _ in range(5)]\n",
    "        for future in as_completed(futures):\n",
    "            future.result()  # Ожидаем завершения задачи\n",
    "\n",
    "@measure_time\n",
    "def run_multiple_cpu_tasks():\n",
    "    with ProcessPoolExecutor(max_workers=5) as executor:\n",
    "        futures = [executor.submit(cpu_bound_task) for _ in range(5)]\n",
    "        for future in as_completed(futures):\n",
    "            future.result()  # Ожидаем завершения задачи"
   ]
  },
  {
   "cell_type": "markdown",
   "metadata": {},
   "source": [
    "## Тестирование в Python\n",
    "Тестирование — важная часть разработки программного обеспечения. В Python есть несколько инструментов для автоматизированного тестирования, таких как модуль `unittest`, `pytest` и другие. В этой теме рассмотрим основы тестирования, создание тестов, использование различных типов утверждений и принципы написания эффективных тестов.\n"
   ]
  },
  {
   "cell_type": "code",
   "execution_count": null,
   "metadata": {},
   "outputs": [],
   "source": [
    "# смотри пример кода в папке /tests"
   ]
  },
  {
   "cell_type": "markdown",
   "metadata": {},
   "source": [
    "## Тайпинги в Python\n",
    "\n",
    "Тайпинги (или аннотации типов) в Python позволяют указать типы данных для переменных, аргументов функций и возвращаемых значений. Это помогает улучшить читаемость кода и позволяет использовать инструменты статической типизации, такие как `mypy` для проверки типов. Тайпинги не влияют на выполнение программы, но помогают разработчикам и инструментам лучше понимать структуру данных.\n"
   ]
  },
  {
   "cell_type": "markdown",
   "metadata": {},
   "source": [
    "### 1. Тайпинг для переменных\n",
    "Python позволяет аннотировать переменные с помощью типа, чтобы указать, какой тип данных они должны содержать."
   ]
  },
  {
   "cell_type": "code",
   "execution_count": null,
   "metadata": {},
   "outputs": [],
   "source": [
    "# Пример с аннотацией типов для переменной\n",
    "age: int = 25\n",
    "name: str = \"John\"\n",
    "is_active: bool = True"
   ]
  },
  {
   "cell_type": "markdown",
   "metadata": {},
   "source": [
    "### 2. Тайпинг для функций\n",
    "Функции могут быть аннотированы для указания типов их параметров и возвращаемых значений."
   ]
  },
  {
   "cell_type": "code",
   "execution_count": null,
   "metadata": {},
   "outputs": [],
   "source": [
    "# Пример с аннотацией типов для функции\n",
    "def greet(name: str) -> str:\n",
    "    return f\"Hello, {name}\"\n",
    "\n",
    "result = greet(\"Alice\")  # Тип результата - строка"
   ]
  },
  {
   "cell_type": "markdown",
   "metadata": {},
   "source": [
    "### 3. Тайпинг для коллекций\n",
    "Можно указать тип элементов в коллекциях (списки, кортежи, множества и словари)."
   ]
  },
  {
   "cell_type": "code",
   "execution_count": null,
   "metadata": {},
   "outputs": [],
   "source": [
    "# Пример с аннотациями типов для списка и словаря\n",
    "def process_numbers(numbers: list[int]) -> int:\n",
    "    return sum(numbers)\n",
    "\n",
    "def get_user_data() -> dict[str, int]:\n",
    "    return {\"Alice\": 30, \"Bob\": 25}"
   ]
  },
  {
   "cell_type": "markdown",
   "metadata": {},
   "source": [
    "### 4. Тайпинг для опциональных типов\n",
    "С помощью `Optional` можно указать, что переменная или возвращаемое значение может быть None."
   ]
  },
  {
   "cell_type": "code",
   "execution_count": 4,
   "metadata": {},
   "outputs": [],
   "source": [
    "from typing import Optional, Union\n",
    "\n",
    "# Пример с аннотацией типов для опциональных значений\n",
    "def find_user(name: str) -> str | None:\n",
    "    users = {\"Alice\": \"alice@example.com\", \"Bob\": \"bob@example.com\"}\n",
    "    return users.get(name)"
   ]
  },
  {
   "cell_type": "markdown",
   "metadata": {},
   "source": [
    "## Лучшие практики программирования: SOLID, DRY, KISS\n",
    "\n",
    "В программировании существует несколько принципов, помогающих писать чистый, поддерживаемый и расширяемый код. Некоторые из наиболее известных — это SOLID, DRY и KISS. Эти принципы ориентированы на улучшение структуры кода и минимизацию ошибок в процессе разработки.\n"
   ]
  },
  {
   "cell_type": "markdown",
   "metadata": {},
   "source": [
    "\n",
    "## Принцип KISS (Keep It Simple, Stupid)\n",
    "\n",
    "Принцип KISS (Keep It Simple, Stupid) в программировании пропагандирует идею создания простых решений для задач, избегая ненужной сложности. Этот принцип помогает улучшить читаемость, поддержку и расширяемость кода, делая его более понятным и доступным для других разработчиков.\n",
    "\n",
    "### Основная идея:\n",
    "Принцип KISS гласит, что код должен быть простым, понятным и легко поддерживаемым. Вместо того чтобы искать сложные и изощренные способы решения задач, следует выбирать более простые и очевидные подходы, если это возможно.\n",
    "\n",
    "Сложные решения приводят к более высокому риску ошибок, трудности в тестировании и сложностям в масштабировании. Простой код легче поддерживать, модифицировать и дополнять.\n",
    "\n",
    "### Преимущества KISS:\n",
    "- **Читаемость**: Легкий для восприятия код делает его более понятным для других разработчиков, что уменьшает вероятность ошибок.\n",
    "- **Поддержка**: Простые решения легче модифицировать и поддерживать.\n",
    "- **Тестируемость**: Чем проще код, тем легче его тестировать.\n",
    "- **Масштабируемость**: Простые решения обычно проще расширять и адаптировать для новых требований."
   ]
  },
  {
   "cell_type": "code",
   "execution_count": null,
   "metadata": {},
   "outputs": [],
   "source": [
    "def greet(name: str) -> str:\n",
    "    return \"Hello, \" + name + \"!\""
   ]
  },
  {
   "cell_type": "code",
   "execution_count": null,
   "metadata": {},
   "outputs": [],
   "source": [
    "def greet(name: str) -> str:\n",
    "    return f\"Hello, {name}!\""
   ]
  },
  {
   "cell_type": "markdown",
   "metadata": {},
   "source": [
    "## Принцип DRY (Don't Repeat Yourself)\n",
    "\n",
    "Принцип DRY (Don't Repeat Yourself) означает \"Не повторяйся\". Он призывает избегать дублирования кода и выносить повторяющиеся части в отдельные функции, классы или модули. Повторение одного и того же кода затрудняет его поддержку и увеличивает риск ошибок.\n"
   ]
  },
  {
   "cell_type": "markdown",
   "metadata": {},
   "source": [
    "### Плохой пример"
   ]
  },
  {
   "cell_type": "code",
   "execution_count": null,
   "metadata": {},
   "outputs": [],
   "source": [
    "def read_first_line():\n",
    "    with open(\"data.txt\", \"r\") as file:\n",
    "        return file.readline().strip()\n",
    "\n",
    "def read_last_line():\n",
    "    with open(\"data.txt\", \"r\") as file:\n",
    "        lines = file.readlines()\n",
    "        return lines[-1].strip()"
   ]
  },
  {
   "cell_type": "markdown",
   "metadata": {},
   "source": [
    "### Хороший пример\n"
   ]
  },
  {
   "cell_type": "code",
   "execution_count": null,
   "metadata": {},
   "outputs": [],
   "source": [
    "FILE_NAME = \"data.txt\"  # Константа для имени файла\n",
    "\n",
    "def read_first_line(file_name):\n",
    "    with open(file_name, \"r\") as file:\n",
    "        return file.readline().strip()\n",
    "\n",
    "def read_last_line(file_name):\n",
    "    with open(file_name, \"r\") as file:\n",
    "        lines = file.readlines()\n",
    "        return lines[-1].strip()"
   ]
  },
  {
   "cell_type": "markdown",
   "metadata": {},
   "source": [
    "## Принципы SOLID\n",
    "\n",
    "**SOLID** — это пять принципов объектно-ориентированного программирования, предложенные Робертом Мартином (Robert C. Martin). Эти принципы помогают создавать более понятный, гибкий и поддерживаемый код."
   ]
  },
  {
   "cell_type": "markdown",
   "metadata": {},
   "source": [
    "### 1. **S** — Single Responsibility Principle (Принцип единственной ответственности)\n",
    "\n",
    "Каждый класс должен иметь только одну причину для изменения, то есть выполнять только одну задачу.  "
   ]
  },
  {
   "cell_type": "markdown",
   "metadata": {},
   "source": [
    "#### Плохой пример: Класс выполняет сразу две задачи: обработку данных и их сохранение."
   ]
  },
  {
   "cell_type": "code",
   "execution_count": null,
   "metadata": {},
   "outputs": [],
   "source": [
    "class DataProcessor:\n",
    "    def process_data(self, data, filename):\n",
    "        # Обработка данных\n",
    "        processed_data = [item * 2 for item in data]\n",
    "        \n",
    "        with open(filename, 'w') as file:\n",
    "            file.write(\"\\n\".join(map(str, data)))\n",
    "        \n",
    "        return processed_data"
   ]
  },
  {
   "cell_type": "markdown",
   "metadata": {},
   "source": [
    "#### Хороший пример: Разделение обязанностей на два класса."
   ]
  },
  {
   "cell_type": "code",
   "execution_count": null,
   "metadata": {},
   "outputs": [],
   "source": [
    "class DataProcessor:\n",
    "    def process_data(self, data):\n",
    "        # Обработка данных\n",
    "        return [item * 2 for item in data]\n",
    "\n",
    "class DataSaver:\n",
    "    def save_to_file(self, data, filename):\n",
    "        with open(filename, 'w') as file:\n",
    "            file.write(\"\\n\".join(map(str, data)))\n",
    "\n",
    "# Использование:\n",
    "processor = DataProcessor()\n",
    "saver = DataSaver()\n",
    "\n",
    "data = [1, 2, 3, 4]\n",
    "processed_data = processor.process_data(data)\n",
    "saver.save_to_file(processed_data, \"output.txt\")"
   ]
  },
  {
   "cell_type": "markdown",
   "metadata": {},
   "source": [
    "### 2. **O** — Open/Closed Principle (Принцип открытости/закрытости)\n",
    "\n",
    "Программные сущности (классы, модули, функции) должны быть **открыты для расширения**, но **закрыты для модификации**.\n",
    "\n",
    "---\n",
    "\n",
    "#### Суть:\n",
    "\n",
    "- **Открыто для расширения:** Поведение класса можно изменять или дополнять.\n",
    "- **Закрыто для модификации:** Изменение существующего кода не должно быть необходимым.\n",
    "\n",
    "Это достигается использованием абстракций, наследования или интерфейсов."
   ]
  },
  {
   "cell_type": "markdown",
   "metadata": {},
   "source": [
    "#### Плохой пример: Мы добавляем новые функции через модификацию существующего кода.\n"
   ]
  },
  {
   "cell_type": "code",
   "execution_count": null,
   "metadata": {},
   "outputs": [],
   "source": [
    "class DiscountCalculator:\n",
    "    def calculate_discount(self, customer_type, amount):\n",
    "        if customer_type == \"regular\":\n",
    "            return amount * 0.1\n",
    "        elif customer_type == \"vip\":\n",
    "            return amount * 0.2"
   ]
  },
  {
   "cell_type": "markdown",
   "metadata": {},
   "source": [
    "#### Хороший пример: Используем полиморфизм для добавления новых типов клиентов без изменения существующего кода."
   ]
  },
  {
   "cell_type": "code",
   "execution_count": null,
   "metadata": {},
   "outputs": [],
   "source": [
    "from abc import ABC, abstractmethod\n",
    "\n",
    "# Абстрактный класс для скидок\n",
    "class DiscountStrategy(ABC):\n",
    "    @abstractmethod\n",
    "    def calculate(self, amount):\n",
    "        pass\n",
    "\n",
    "# Конкретные стратегии скидок\n",
    "class RegularCustomerDiscount(DiscountStrategy):\n",
    "    def calculate(self, amount):\n",
    "        return amount * 0.1\n",
    "\n",
    "class VIPCustomerDiscount(DiscountStrategy):\n",
    "    def calculate(self, amount):\n",
    "        return amount * 0.2\n",
    "\n",
    "# Контекстный класс, который работает с любой стратегией\n",
    "class DiscountCalculator:\n",
    "    def __init__(self, strategy: DiscountStrategy):\n",
    "        self.strategy = strategy\n",
    "\n",
    "    def calculate_discount(self, amount):\n",
    "        return self.strategy.calculate(amount)\n",
    "\n",
    "# Использование:\n",
    "regular_discount = RegularCustomerDiscount()\n",
    "vip_discount = VIPCustomerDiscount()\n",
    "\n",
    "calculator = DiscountCalculator(regular_discount)\n",
    "print(\"Regular customer discount:\", calculator.calculate_discount(100))  # 10.0\n",
    "\n",
    "calculator = DiscountCalculator(vip_discount)\n",
    "print(\"VIP customer discount:\", calculator.calculate_discount(100))  # 20.0"
   ]
  },
  {
   "cell_type": "markdown",
   "metadata": {},
   "source": [
    "### 3. **L** — Liskov Substitution Principle (Принцип подстановки Барбары Лисков)\n",
    "\n",
    "**Объекты в программе должны быть заменяемы их наследниками без изменения корректности программы.**\n",
    "\n",
    "---\n",
    "\n",
    "#### Суть:\n",
    "\n",
    "- Если класс `B` наследуется от класса `A`, то объекты класса `B` должны корректно заменять объекты класса `A`, не нарушая работу программы.\n",
    "- Это означает, что наследники должны сохранять поведение базового класса."
   ]
  },
  {
   "cell_type": "markdown",
   "metadata": {},
   "source": [
    "#### Плохой пример: Наследник нарушает ожидаемое поведение базового класса.\n"
   ]
  },
  {
   "cell_type": "code",
   "execution_count": null,
   "metadata": {},
   "outputs": [],
   "source": [
    "class Bird:\n",
    "    def fly(self):\n",
    "        return \"I can fly!\"\n",
    "\n",
    "class Penguin(Bird):\n",
    "    def fly(self):\n",
    "        raise NotImplementedError(\"Penguins can't fly!\")\n",
    "\n",
    "# Проблема:\n",
    "def make_bird_fly(bird: Bird):\n",
    "    print(bird.fly())\n",
    "\n",
    "penguin = Penguin()\n",
    "make_bird_fly(penguin)  # Ошибка: Penguins can't fly!"
   ]
  },
  {
   "cell_type": "markdown",
   "metadata": {},
   "source": [
    "#### Хороший пример: Разделение поведения базового класса."
   ]
  },
  {
   "cell_type": "code",
   "execution_count": 6,
   "metadata": {},
   "outputs": [
    {
     "name": "stdout",
     "output_type": "stream",
     "text": [
      "I can fly!\n",
      "I walk or swim.\n"
     ]
    }
   ],
   "source": [
    "from abc import ABC, abstractmethod\n",
    "\n",
    "# Базовый класс с четким разделением поведения\n",
    "class Bird(ABC):\n",
    "    @abstractmethod\n",
    "    def move(self):\n",
    "        pass\n",
    "\n",
    "class FlyingBird(Bird):\n",
    "    def move(self):\n",
    "        return \"I can fly!\"\n",
    "\n",
    "class NonFlyingBird(Bird):\n",
    "    def move(self):\n",
    "        return \"I walk or swim.\"\n",
    "\n",
    "# Конкретные реализации\n",
    "class Sparrow(FlyingBird):\n",
    "    pass\n",
    "\n",
    "class Penguin(NonFlyingBird):\n",
    "    pass\n",
    "\n",
    "# Пример использования:\n",
    "def observe_bird(bird: Bird):\n",
    "    print(bird.move())\n",
    "\n",
    "sparrow = Sparrow()\n",
    "penguin = Penguin()\n",
    "\n",
    "observe_bird(sparrow)  # I can fly!\n",
    "observe_bird(penguin)  # I walk or swim."
   ]
  },
  {
   "cell_type": "markdown",
   "metadata": {},
   "source": [
    "### 4. **I** — Interface Segregation Principle (Принцип разделения интерфейса)\n",
    "\n",
    "**Клиенты не должны зависеть от интерфейсов, которые они не используют.**\n",
    "\n",
    "---\n",
    "\n",
    "#### Суть:\n",
    "\n",
    "- Большие и универсальные интерфейсы (или классы) нужно разбивать на более мелкие, чтобы каждый интерфейс включал только те методы, которые необходимы конкретному клиенту.\n",
    "- Это помогает избежать ситуации, когда объекты обязаны реализовывать методы, которые они фактически не используют."
   ]
  },
  {
   "cell_type": "markdown",
   "metadata": {},
   "source": [
    "#### Плохой пример: Один интерфейс с методами, которые не применимы ко всем клиентам."
   ]
  },
  {
   "cell_type": "code",
   "execution_count": null,
   "metadata": {},
   "outputs": [],
   "source": [
    "class Worker:\n",
    "    def work(self):\n",
    "        pass\n",
    "\n",
    "    def eat(self):\n",
    "        pass\n",
    "\n",
    "class HumanWorker(Worker):\n",
    "    def work(self):\n",
    "        return \"Working!\"\n",
    "\n",
    "    def eat(self):\n",
    "        return \"Eating lunch!\"\n",
    "\n",
    "class RobotWorker(Worker):\n",
    "    def work(self):\n",
    "        return \"Working!\"\n",
    "\n",
    "    def eat(self):\n",
    "        raise NotImplementedError(\"Robots don't eat!\")"
   ]
  },
  {
   "cell_type": "markdown",
   "metadata": {},
   "source": [
    "#### Хороший пример: Разделение интерфейса на более мелкие.\n"
   ]
  },
  {
   "cell_type": "code",
   "execution_count": 7,
   "metadata": {},
   "outputs": [
    {
     "name": "stdout",
     "output_type": "stream",
     "text": [
      "Working!\n",
      "Eating lunch!\n",
      "Working!\n"
     ]
    }
   ],
   "source": [
    "from abc import ABC, abstractmethod\n",
    "\n",
    "class Workable(ABC):\n",
    "    @abstractmethod\n",
    "    def work(self):\n",
    "        pass\n",
    "\n",
    "class Eatable(ABC):\n",
    "    @abstractmethod\n",
    "    def eat(self):\n",
    "        pass\n",
    "\n",
    "class HumanWorker(Workable, Eatable):\n",
    "    def work(self):\n",
    "        return \"Working!\"\n",
    "\n",
    "    def eat(self):\n",
    "        return \"Eating lunch!\"\n",
    "\n",
    "class RobotWorker(Workable):\n",
    "    def work(self):\n",
    "        return \"Working!\"\n",
    "\n",
    "# Пример использования:\n",
    "human = HumanWorker()\n",
    "robot = RobotWorker()\n",
    "\n",
    "print(human.work())  # Working!\n",
    "print(human.eat())   # Eating lunch!\n",
    "print(robot.work())  # Working!"
   ]
  },
  {
   "cell_type": "markdown",
   "metadata": {},
   "source": [
    "### 5. **D** — Dependency Inversion Principle (Принцип инверсии зависимостей)\n",
    "\n",
    "**Модули верхнего уровня не должны зависеть от модулей нижнего уровня. И те, и другие должны зависеть от абстракций.**\n",
    "\n",
    "---\n",
    "\n",
    "#### Суть:\n",
    "\n",
    "- Высокоуровневые модули (бизнес-логика) не должны напрямую зависеть от низкоуровневых модулей (деталей реализации).\n",
    "- Вместо этого оба уровня должны зависеть от абстракций (например, интерфейсов или базовых классов).\n",
    "- Абстракции не должны зависеть от деталей. Наоборот, детали должны зависеть от абстракций."
   ]
  },
  {
   "cell_type": "markdown",
   "metadata": {},
   "source": [
    "#### Плохой пример: Высокоуровневый модуль зависит от конкретной реализации."
   ]
  },
  {
   "cell_type": "code",
   "execution_count": null,
   "metadata": {},
   "outputs": [],
   "source": [
    "class Database:\n",
    "    def connect(self):\n",
    "        return \"Connected to database\"\n",
    "\n",
    "class UserService:\n",
    "    def __init__(self):\n",
    "        self.database = Database()  # Прямое создание объекта\n",
    "\n",
    "    def get_user(self):\n",
    "        return f\"Getting user from: {self.database.connect()}\"\n",
    "\n",
    "# Использование:\n",
    "service = UserService()\n",
    "print(service.get_user())"
   ]
  },
  {
   "cell_type": "markdown",
   "metadata": {},
   "source": [
    "#### Хороший пример: Инверсируем зависимость через абстракцию."
   ]
  },
  {
   "cell_type": "code",
   "execution_count": 9,
   "metadata": {},
   "outputs": [
    {
     "name": "stdout",
     "output_type": "stream",
     "text": [
      "Getting user from: Connected to MongoDB\n"
     ]
    }
   ],
   "source": [
    "from abc import ABC, abstractmethod\n",
    "\n",
    "# Абстракция\n",
    "class Database(ABC):\n",
    "    @abstractmethod\n",
    "    def connect(self):\n",
    "        pass\n",
    "\n",
    "# Реализации\n",
    "class MySQLDatabase(Database):\n",
    "    def connect(self):\n",
    "        return \"Connected to MySQL database\"\n",
    "\n",
    "class MongoDB(Database):\n",
    "    def connect(self):\n",
    "        return \"Connected to MongoDB\"\n",
    "\n",
    "# Высокоуровневый модуль зависит от абстракции\n",
    "class UserService:\n",
    "    def __init__(self, database: Database):\n",
    "        self.database = database\n",
    "\n",
    "    def get_user(self):\n",
    "        return f\"Getting user from: {self.database.connect()}\"\n",
    "\n",
    "# Использование:\n",
    "service = UserService(MongoDB())\n",
    "#mongo_service = UserService(MongoDB())\n",
    "\n",
    "print(service.get_user())  # Getting user from: Connected to MySQL database\n"
   ]
  },
  {
   "cell_type": "markdown",
   "metadata": {},
   "source": [
    "#### Задача 1: Применение принципа OCP (Принцип открытости/закрытости)\n",
    "*Условие:*\n",
    "\n",
    "Вам нужно создать систему для расчета стоимости доставки товаров.\n",
    "\n",
    "1. Есть несколько типов доставки:\n",
    "\n",
    "- Курьерская доставка (фиксированная стоимость $5).\n",
    "- Доставка почтой (стоимость рассчитывается как $2 за каждый килограмм веса).\n",
    "- Доставка экспресс (стоимость рассчитывается как $10 + $3 за каждый килограмм веса).\n",
    "2. В будущем, могут добавляться новые способы доставки. Необходимо спроектировать систему так, чтобы добавление нового способа доставки не требовало изменений в существующем коде расчета стоимости."
   ]
  },
  {
   "cell_type": "code",
   "execution_count": null,
   "metadata": {},
   "outputs": [],
   "source": [
    "# YOUR CODE HERE"
   ]
  },
  {
   "cell_type": "markdown",
   "metadata": {},
   "source": [
    "#### Задача 2: Применение принципа DIP (Принцип инверсии зависимостей)\n",
    "*Условие:*\n",
    "\n",
    "Вы разрабатываете систему уведомлений для интернет-магазина.\n",
    "\n",
    "1. Есть несколько способов уведомлений:\n",
    "\n",
    "- Отправка Email.\n",
    "- Отправка SMS.\n",
    "- Отправка уведомлений через Push.\n",
    "2. Создайте абстракцию для уведомлений. Высокоуровневый модуль (класс NotificationService) должен использовать эту абстракцию для отправки сообщений.\n",
    "\n",
    "*Требования:*\n",
    "\n",
    "1. NotificationService не должен напрямую зависеть от классов EmailNotification, SMSNotification или PushNotification.\n",
    "2. Убедитесь, что добавление нового способа уведомления (например, через WhatsApp) не требует изменения в NotificationService."
   ]
  },
  {
   "cell_type": "code",
   "execution_count": 12,
   "metadata": {},
   "outputs": [
    {
     "name": "stdout",
     "output_type": "stream",
     "text": [
      "('Привет Андрей!',) {}\n"
     ]
    }
   ],
   "source": [
    "# YOUR CODE HERE"
   ]
  },
  {
   "cell_type": "markdown",
   "metadata": {},
   "source": [
    "### Линтеры, форматтеры и пре-коммит хуки\n",
    "Линтеры и форматтеры — это инструменты для автоматического анализа и форматирования кода, а пре-коммит хуки позволяют запускать проверки перед каждым коммитом. Эти инструменты помогают поддерживать высокое качество кода, улучшать читаемость и предотвращать распространенные ошибки."
   ]
  },
  {
   "cell_type": "markdown",
   "metadata": {},
   "source": [
    "### **isort**, **black** и **ruff** — Инструменты для форматирования и линтинга Python-кода\n",
    "\n",
    "**isort**, **black** и **ruff** — это три мощных инструмента для улучшения качества кода в Python. Они помогают автоматически форматировать код, проверять его на ошибки и несоответствия стандартам стиля, а также ускоряют процесс разработки.\n",
    "\n",
    "- **isort** — инструмент для сортировки импортов.\n",
    "- **black** — форматтер, который автоматически форматирует код в соответствии с единым стилем.\n",
    "- **ruff** — высокоскоростной линтер для анализа кода на ошибки и несоответствия стандартам.\n"
   ]
  },
  {
   "cell_type": "markdown",
   "metadata": {},
   "source": []
  }
 ],
 "metadata": {
  "kernelspec": {
   "display_name": ".venv",
   "language": "python",
   "name": "python3"
  },
  "language_info": {
   "codemirror_mode": {
    "name": "ipython",
    "version": 3
   },
   "file_extension": ".py",
   "mimetype": "text/x-python",
   "name": "python",
   "nbconvert_exporter": "python",
   "pygments_lexer": "ipython3",
   "version": "3.11.9"
  }
 },
 "nbformat": 4,
 "nbformat_minor": 2
}
