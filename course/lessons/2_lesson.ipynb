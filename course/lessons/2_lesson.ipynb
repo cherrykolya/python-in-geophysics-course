{
 "cells": [
  {
   "cell_type": "markdown",
   "metadata": {},
   "source": [
    "## Классы в Python  \n",
    "\n",
    "### Что такое классы?  \n",
    "Классы — это основа объектно-ориентированного программирования (ООП). Они позволяют создавать пользовательские структуры данных, объединяющие **данные (атрибуты)** и **поведение (методы)** в одном объекте.  \n",
    "\n",
    "Объекты, созданные на основе классов, называются **экземплярами**.  \n",
    "\n",
    "### Создание класса  \n",
    "Для создания класса используется ключевое слово `class`.  "
   ]
  },
  {
   "cell_type": "code",
   "execution_count": null,
   "metadata": {},
   "outputs": [],
   "source": [
    "class MyClass:\n",
    "    # Конструктор класса\n",
    "    def __init__(self, attribute):\n",
    "        self.attribute = attribute\n",
    "\n",
    "    # Метод класса\n",
    "    def print_attribute(self):\n",
    "        print(f\"Значение атрибута: {self.attribute}\")\n",
    "\n",
    "# Создание экземпляра класса\n",
    "obj = MyClass(\"Пример\")\n",
    "obj.print_attribute()  # Вывод: Значение атрибута: Пример"
   ]
  },
  {
   "cell_type": "markdown",
   "metadata": {},
   "source": [
    "### Атрибуты класса и экземпляра\n",
    "Атрибуты можно задавать как для класса в целом, так и для отдельных экземпляров."
   ]
  },
  {
   "cell_type": "code",
   "execution_count": null,
   "metadata": {},
   "outputs": [],
   "source": [
    "class MyClass:\n",
    "    class_attribute = \"Общий атрибут\"\n",
    "\n",
    "    def __init__(self, instance_attribute):\n",
    "        self.instance_attribute = instance_attribute\n",
    "\n",
    "# Доступ к атрибутам\n",
    "obj1 = MyClass(\"Атрибут экземпляра 1\")\n",
    "obj2 = MyClass(\"Атрибут экземпляра 2\")\n",
    "\n",
    "print(MyClass.class_attribute)  # Вывод: Общий атрибут\n",
    "print(obj1.instance_attribute)  # Вывод: Атрибут экземпляра 1\n",
    "print(obj2.instance_attribute)  # Вывод: Атрибут экземпляра 2"
   ]
  },
  {
   "cell_type": "markdown",
   "metadata": {},
   "source": [
    "### Методы классов  \n",
    "Методы описывают поведение объектов:  \n",
    "1. Методы экземпляра (`self`).  \n",
    "2. Методы класса (`@classmethod`).  \n",
    "3. Статические методы (`@staticmethod`)."
   ]
  },
  {
   "cell_type": "code",
   "execution_count": null,
   "metadata": {},
   "outputs": [],
   "source": [
    "class Example:\n",
    "    def instance_method(self):\n",
    "        return \"Метод экземпляра\"\n",
    "\n",
    "    @classmethod\n",
    "    def class_method(cls):\n",
    "        return \"Метод класса\"\n",
    "\n",
    "    @staticmethod\n",
    "    def static_method():\n",
    "        return \"Статический метод\"\n",
    "\n",
    "obj = Example()\n",
    "print(obj.instance_method())  # Вывод: Метод экземпляра\n",
    "print(Example.class_method()) # Вывод: Метод класса\n",
    "print(Example.static_method()) # Вывод: Статический метод"
   ]
  },
  {
   "cell_type": "markdown",
   "metadata": {},
   "source": [
    "## Определение объектно-ориентированного программирования (ООП)  \n",
    "**ООП** — это подход к программированию, в котором данные и функции, работающие с ними, объединяются в структуры, называемые объектами. Основной целью ООП является создание гибкого, масштабируемого и читаемого кода.\n",
    "\n",
    "Объекты в ООП создаются на основе **классов**, которые определяют структуру и поведение."
   ]
  },
  {
   "cell_type": "markdown",
   "metadata": {},
   "source": [
    "## Основные принципы ООП  \n",
    "\n",
    "### 1. **Инкапсуляция**  \n",
    "   Инкапсуляция — это объединение данных и методов, работающих с ними, внутри одного объекта. Она позволяет скрывать внутреннюю реализацию и предоставлять только необходимые интерфейсы.  \n",
    "\n",
    "   **Пример:**  \n",
    "   - Публичные атрибуты доступны извне.  \n",
    "   - Приватные атрибуты защищают данные объекта."
   ]
  },
  {
   "cell_type": "code",
   "execution_count": null,
   "metadata": {},
   "outputs": [],
   "source": [
    "class Example:\n",
    "    def __init__(self):\n",
    "        self.public = \"Публичный\"\n",
    "        self.__private = \"Приватный\"\n",
    "\n",
    "    def get_private(self):\n",
    "        return self.__private\n",
    "\n",
    "obj = Example()\n",
    "print(obj.public)          # Вывод: Публичный\n",
    "print(obj.get_private())   # Вывод: Приватный"
   ]
  },
  {
   "cell_type": "markdown",
   "metadata": {},
   "source": [
    "### 2. **Наследование**  \n",
    "   Наследование позволяет одному классу (наследнику) получать свойства и методы другого класса (родителя). Это помогает переиспользовать код и создавать специализированные классы.  \n",
    "\n",
    "   **Пример:**  \n",
    "   - Родительский класс: `Vehicle`.  \n",
    "   - Дочерний класс: `Car`, который добавляет свои свойства, такие как `количество дверей`."
   ]
  },
  {
   "cell_type": "code",
   "execution_count": null,
   "metadata": {},
   "outputs": [],
   "source": [
    "class Parent:\n",
    "    def greet(self):\n",
    "        return \"Привет от родителя\"\n",
    "\n",
    "class Child(Parent):\n",
    "    def greet(self):\n",
    "        return \"Привет от ребенка\"\n",
    "\n",
    "child = Child()\n",
    "print(child.greet())  # Вывод: Привет от ребенка\n"
   ]
  },
  {
   "cell_type": "markdown",
   "metadata": {},
   "source": [
    "### 3. **Полиморфизм**  \n",
    "   Полиморфизм позволяет использовать один и тот же интерфейс для разных типов объектов. Это делает код гибким и удобным для расширения.  \n",
    "\n",
    "   **Пример:**  \n",
    "   - Метод `sound()` может быть определён в разных классах (`Dog`, `Cat`) и вызываться одинаково для всех объектов.  "
   ]
  },
  {
   "cell_type": "code",
   "execution_count": null,
   "metadata": {},
   "outputs": [],
   "source": [
    "class Dog:\n",
    "    def sound(self):\n",
    "        return \"Гав\"\n",
    "\n",
    "class Cat:\n",
    "    def sound(self):\n",
    "        return \"Мяу\"\n",
    "\n",
    "animals = [Dog(), Cat()]\n",
    "for animal in animals:\n",
    "    print(animal.sound())  # Вывод: Гав, Мяу"
   ]
  },
  {
   "cell_type": "markdown",
   "metadata": {},
   "source": [
    "### 4. **Абстракция**  \n",
    "   Абстракция скрывает сложность реализации и предоставляет только важные детали для пользователя.  \n",
    "\n",
    "   **Пример:**  \n",
    "   - Класс `Database` предоставляет метод `connect()`, не раскрывая, как происходит подключение к базе данных.  "
   ]
  },
  {
   "cell_type": "code",
   "execution_count": null,
   "metadata": {},
   "outputs": [],
   "source": [
    "from abc import ABC, abstractmethod\n",
    "\n",
    "# Абстрактный базовый класс\n",
    "class Shape(ABC):\n",
    "    @abstractmethod\n",
    "    def area(self):\n",
    "        \"\"\"Метод для вычисления площади\"\"\"\n",
    "        pass\n",
    "\n",
    "    @abstractmethod\n",
    "    def perimeter(self):\n",
    "        \"\"\"Метод для вычисления периметра\"\"\"\n",
    "        pass\n",
    "\n",
    "# Конкретный класс - Прямоугольник\n",
    "class Rectangle(Shape):\n",
    "    def __init__(self, width, height):\n",
    "        self.width = width\n",
    "        self.height = height\n",
    "\n",
    "    def area(self):\n",
    "        return self.width * self.height\n",
    "\n",
    "    def perimeter(self):\n",
    "        return 2 * (self.width + self.height)\n",
    "\n",
    "# Конкретный класс - Круг\n",
    "class Circle(Shape):\n",
    "    def __init__(self, radius):\n",
    "        self.radius = radius\n",
    "\n",
    "    def area(self):\n",
    "        return 3.14159 * self.radius ** 2\n",
    "\n",
    "    def perimeter(self):\n",
    "        return 2 * 3.14159 * self.radius\n",
    "\n",
    "# Использование\n",
    "shapes = [\n",
    "    Rectangle(10, 5),\n",
    "    Circle(7)\n",
    "]\n",
    "\n",
    "for shape in shapes:\n",
    "    print(f\"Площадь: {shape.area()}, Периметр: {shape.perimeter()}\")\n"
   ]
  },
  {
   "cell_type": "markdown",
   "metadata": {},
   "source": [
    "## Преимущества ООП  \n",
    "- Упрощение управления сложными системами.  \n",
    "- Повторное использование кода.  \n",
    "- Улучшение читаемости и поддержки.  \n",
    "- Гибкость при добавлении нового функционала."
   ]
  },
  {
   "cell_type": "markdown",
   "metadata": {},
   "source": [
    "### **Магические методы (dunder methods)**  \n",
    "Магические методы — это методы с двойным подчёркиванием (`__`), которые позволяют кастомизировать поведение объектов.  \n",
    "\n",
    "- **Пример популярных магических методов:**\n",
    "  - `__init__`: Конструктор класса, вызывается при создании экземпляра.\n",
    "  - `__str__`: Возвращает строковое представление объекта.\n",
    "  - `__repr__`: Возвращает строку для отладки.\n",
    "  - `__add__`, `__sub__`, `__mul__`, и т.д.: Перегрузка арифметических операторов.\n",
    "  - `__len__`: Позволяет использовать функцию `len()` для объектов.  "
   ]
  },
  {
   "cell_type": "code",
   "execution_count": null,
   "metadata": {},
   "outputs": [],
   "source": [
    "class Person:\n",
    "    def __init__(self, name, age):\n",
    "        self.name = name\n",
    "        self.age = age\n",
    "\n",
    "    def __eq__(self, other):\n",
    "        return self.age == other.age\n",
    "\n",
    "    def __lt__(self, other):\n",
    "        return self.age < other.age\n",
    "\n",
    "p1 = Person(\"Alice\", 30)\n",
    "p2 = Person(\"Bob\", 25)\n",
    "p3 = Person(\"Alice\", 30)\n",
    "\n",
    "print(p1 == p3)  # Вывод: True (сравнение по возрасту)\n",
    "print(p1 < p2)   # Вывод: False"
   ]
  },
  {
   "cell_type": "markdown",
   "metadata": {},
   "source": [
    "### Задача 1: Перегрузка оператора сложения для точек\n",
    "\n",
    "**Описание:**  \n",
    "Реализуйте класс `Point`, который представляет точку на плоскости. Класс должен поддерживать операцию сложения двух точек с помощью перегрузки оператора `+`. Также реализуйте строковое представление точки для удобного отображения.\n",
    "\n",
    "**Требования:**  \n",
    "1. Реализуйте метод `__init__`, принимающий координаты точки `x` и `y`.  \n",
    "2. Реализуйте метод `__add__`, который возвращает новый объект `Point` с координатами, являющимися суммой соответствующих координат двух точек.  \n",
    "3. Реализуйте метод `__str__` для отображения точки в формате: `Point(x, y)`.  "
   ]
  },
  {
   "cell_type": "code",
   "execution_count": null,
   "metadata": {},
   "outputs": [],
   "source": [
    "# YOUR CODE HERE\n",
    "\n",
    "p1 = Point(2, 3)\n",
    "p2 = Point(4, 5)\n",
    "\n",
    "result = p1 + p2\n",
    "print(result)  # Вывод: Point(6, 8)"
   ]
  },
  {
   "cell_type": "markdown",
   "metadata": {},
   "source": [
    "### Задача 2: Управление банковским счетом\n",
    "\n",
    "**Описание:**  \n",
    "Реализуйте класс `BankAccount`, который представляет банковский счет. Класс должен поддерживать пополнение, снятие средств и отображение баланса.\n",
    "\n",
    "**Требования:**  \n",
    "1. Реализуйте метод `__init__`, принимающий имя владельца счета (`owner`) и начальный баланс (`balance`).  \n",
    "2. Реализуйте метод `deposit`, который увеличивает баланс на указанную сумму.  \n",
    "3. Реализуйте метод `withdraw`, который уменьшает баланс на указанную сумму (при условии достаточного остатка). Если средств недостаточно, выведите сообщение \"Недостаточно средств\".  \n",
    "4. Реализуйте метод `__str__`, который возвращает строку с информацией о владельце счета и текущем балансе в формате: `BankAccount(owner=owner_name, balance=current_balance)`.\n"
   ]
  },
  {
   "cell_type": "code",
   "execution_count": null,
   "metadata": {},
   "outputs": [],
   "source": [
    "# YOUR CODE HERE\n",
    "\n",
    "account = BankAccount(\"Alice\", 100)\n",
    "\n",
    "account.deposit(50)\n",
    "print(account)  # Вывод: BankAccount(owner=Alice, balance=150)\n",
    "\n",
    "account.withdraw(30)\n",
    "print(account)  # Вывод: BankAccount(owner=Alice, balance=120)\n",
    "\n",
    "account.withdraw(200)  # Вывод: Недостаточно средств"
   ]
  },
  {
   "cell_type": "markdown",
   "metadata": {},
   "source": [
    "### Задача 3: Управление библиотекой\n",
    "\n",
    "**Описание:**  \n",
    "Представьте, что вы создаете систему для управления библиотекой. Библиотека должна содержать книги, которые могут быть отсортированы по категориям и жанрам. Каждый жанр и категория могут содержать множество книг, а также каждому жанру и категории можно присваивать определенные атрибуты (например, количество книг или год выпуска).\n",
    "\n",
    "**Требования:**  \n",
    "1. Создайте класс `Book`, который будет представлять книгу в библиотеке.  \n",
    "   - Класс должен содержать атрибуты: название книги (`title`), автор книги (`author`), год выпуска (`year`), количество страниц (`pages`).\n",
    "   - Реализуйте метод `__str__`, который будет возвращать строковое представление книги в виде `Title by Author (Year)`.\n",
    "\n",
    "2. Создайте класс `Category`, который будет представлять категорию в библиотеке.  \n",
    "   - Класс должен содержать атрибуты: название категории (`name`) и список книг (`books`).\n",
    "   - Реализуйте метод `add_book`, который добавляет книгу в категорию, и метод `remove_book`, который удаляет книгу из категории.\n",
    "   - Реализуйте метод `__str__`, который выводит название категории и количество книг в ней.\n",
    "\n",
    "3. Создайте класс `Library`, который будет управлять всей библиотекой.  \n",
    "   - Класс должен содержать атрибуты: название библиотеки (`name`) и список категорий (`categories`).\n",
    "   - Реализуйте методы для добавления/удаления категорий и получения списка всех книг в библиотеке.  \n",
    "   - Реализуйте метод `__str__`, который возвращает название библиотеки и количество категорий в ней."
   ]
  },
  {
   "cell_type": "code",
   "execution_count": null,
   "metadata": {},
   "outputs": [],
   "source": [
    "# YOUR CODE HERE\n",
    "\n",
    "# Создание книг\n",
    "book1 = Book(\"1984\", \"George Orwell\", 1949, 328)\n",
    "book2 = Book(\"Brave New World\", \"Aldous Huxley\", 1932, 311)\n",
    "book3 = Book(\"Fahrenheit 451\", \"Ray Bradbury\", 1953, 249)\n",
    "\n",
    "# Создание категорий\n",
    "category = Category(\"Fiction\")\n",
    "category.add_book(book1)\n",
    "\n",
    "# Создание библиотеки\n",
    "library = Library(\"City Library\")\n",
    "library.add_category(fiction)\n",
    "\n",
    "# Работа с библиотекой\n",
    "print(library)  # Вывод: City Library with 1 categories\n",
    "print(category)  # Вывод: Category (2 books)\n",
    "print(book1)  # Вывод: 1984 by George Orwell (1949)"
   ]
  },
  {
   "cell_type": "markdown",
   "metadata": {},
   "source": [
    "## Ошибки и исключения в Python\n",
    "\n",
    "Ошибки в Python могут быть синтаксическими, логическими или связанными с неправильным использованием данных. Исключения — это объекты, которые описывают ошибки во время выполнения программы. Обработка исключений позволяет программе продолжать выполнение даже в случае возникновения ошибок.\n",
    "\n",
    "## Создание и обработка кастомных ошибок в Python\n",
    "\n",
    "В Python можно создавать свои собственные исключения, чтобы обрабатывать специфические ошибки в программе. Для этого необходимо создать класс, который будет наследовать стандартный класс `Exception` или его подкатегории.\n",
    "\n",
    "### Пример 1: Создание кастомного исключения\n",
    "\n"
   ]
  },
  {
   "cell_type": "code",
   "execution_count": null,
   "metadata": {},
   "outputs": [],
   "source": [
    "# Определение кастомного исключения\n",
    "class InsufficientFundsError(Exception):\n",
    "    def __init__(self, message=\"Недостаточно средств на счете\"):\n",
    "        self.message = message\n",
    "        super().__init__(self.message)\n",
    "\n",
    "# Функция для снятия средств\n",
    "def withdraw(balance, amount):\n",
    "    if amount > balance:\n",
    "        raise InsufficientFundsError(f\"Попытка снять {amount}, но на счете только {balance}.\")\n",
    "    return balance - amount\n",
    "\n",
    "# Пример использования\n",
    "try:\n",
    "    balance = 100\n",
    "    amount_to_withdraw = 150\n",
    "    balance = withdraw(balance, amount_to_withdraw)\n",
    "except InsufficientFundsError as e:\n",
    "    print(f\"Ошибка: {e}\")"
   ]
  },
  {
   "cell_type": "markdown",
   "metadata": {},
   "source": [
    "### Пример 2: Обработка нескольких типов исключений"
   ]
  },
  {
   "cell_type": "code",
   "execution_count": null,
   "metadata": {},
   "outputs": [],
   "source": [
    "# Определение кастомных исключений\n",
    "class InvalidAgeError(Exception):\n",
    "    def __init__(self, message=\"Неверный возраст\"):\n",
    "        self.message = message\n",
    "        super().__init__(self.message)\n",
    "\n",
    "class NegativeAmountError(Exception):\n",
    "    def __init__(self, message=\"Сумма не может быть отрицательной\"):\n",
    "        self.message = message\n",
    "        super().__init__(self.message)\n",
    "\n",
    "# Функция для регистрации\n",
    "def register_user(age, amount):\n",
    "    if age < 18:\n",
    "        raise InvalidAgeError(\"Возраст должен быть больше или равен 18.\")\n",
    "    if amount < 0:\n",
    "        raise NegativeAmountError(\"Сумма не может быть меньше 0.\")\n",
    "    return f\"Пользователь зарегистрирован с возрастом {age} и суммой {amount}.\"\n",
    "\n",
    "# Пример использования\n",
    "try:\n",
    "    result = register_user(16, 100)\n",
    "except InvalidAgeError as e:\n",
    "    print(f\"Ошибка: {e}\")\n",
    "except NegativeAmountError as e:\n",
    "    print(f\"Ошибка: {e}\")"
   ]
  },
  {
   "cell_type": "markdown",
   "metadata": {},
   "source": [
    "### Пример 3: Обработка нескольких типов исключений"
   ]
  },
  {
   "cell_type": "code",
   "execution_count": null,
   "metadata": {},
   "outputs": [],
   "source": [
    "class FileNotFoundError(Exception):\n",
    "    pass\n",
    "\n",
    "# Пример использования файла\n",
    "def open_file(file_name):\n",
    "    if file_name != \"data.txt\":\n",
    "        raise FileNotFoundError(\"Файл не найден\")\n",
    "    return \"Открытие файла прошло успешно.\"\n",
    "\n",
    "try:\n",
    "    result = open_file(\"nonexistent_file.txt\")\n",
    "except FileNotFoundError as e:\n",
    "    print(f\"Ошибка: {e}\")\n",
    "else:\n",
    "    print(result)\n",
    "finally:\n",
    "    print(\"Попытка открыть файл завершена.\")\n"
   ]
  },
  {
   "cell_type": "markdown",
   "metadata": {},
   "source": [
    "## Контекстные менеджеры в Python\n",
    "\n",
    "Контекстные менеджеры позволяют управлять ресурсами (например, открытием и закрытием файлов, блокировками) с помощью конструкций `with`. Это упрощает код и гарантирует правильное освобождение ресурсов после завершения работы.\n",
    "\n",
    "### Пример 1: Создание контекстного менеджера с помощью класса"
   ]
  },
  {
   "cell_type": "code",
   "execution_count": null,
   "metadata": {},
   "outputs": [],
   "source": [
    "class MyContextManager:\n",
    "    def __enter__(self):\n",
    "        print(\"Вход в блок with\")\n",
    "        return self  # Можно вернуть объект, с которым будем работать в блоке\n",
    "\n",
    "    def __exit__(self, exc_type, exc_val, exc_tb):\n",
    "        print(\"Выход из блока with\")\n",
    "        # exc_type, exc_val, exc_tb используются для обработки исключений\n",
    "        if exc_type is not None:\n",
    "            print(f\"Произошла ошибка: {exc_val}\")\n",
    "        return True  # Возвращаем True, чтобы подавить исключение, если оно возникло\n",
    "\n",
    "# Пример использования\n",
    "with MyContextManager() as cm:\n",
    "    print(\"Выполнение кода внутри блока with\")\n",
    "\n",
    "print(\"Блок with завершен\")"
   ]
  },
  {
   "cell_type": "markdown",
   "metadata": {},
   "source": [
    "## Задача: Контекстный менеджер для логирования операций\n",
    "\n",
    "Напишите контекстный менеджер, который логирует начало и завершение выполнения блока кода:\n",
    "\n",
    "1. Время начала выполнения блока.\n",
    "2. Время завершения блока.\n",
    "3. Название операции, передаваемое как аргумент в контекстный менеджер.\n",
    "\n",
    "### Требования:\n",
    "1. Контекстный менеджер должен принимать строковый аргумент `operation_name`, который будет использоваться как название операции.\n",
    "2. Логирование должно записывать дату и время начала и окончания операции.\n",
    "4. Используйте модуль `datetime` для получения текущего времени."
   ]
  },
  {
   "cell_type": "code",
   "execution_count": null,
   "metadata": {},
   "outputs": [],
   "source": [
    "# YOUR CODE HERE"
   ]
  },
  {
   "cell_type": "markdown",
   "metadata": {},
   "source": [
    "## Декораторы в Python\n",
    "\n",
    "Декораторы — это функции, которые позволяют изменять поведение других функций или методов. Они представляют собой мощный инструмент для модификации функций, без необходимости изменять их исходный код.\n"
   ]
  },
  {
   "cell_type": "code",
   "execution_count": null,
   "metadata": {},
   "outputs": [],
   "source": [
    "def simple_decorator(func):\n",
    "    def wrapper():\n",
    "        print(\"До выполнения функции\")\n",
    "        func()\n",
    "        print(\"После выполнения функции\")\n",
    "    return wrapper\n",
    "\n",
    "@simple_decorator\n",
    "def say_hello():\n",
    "    print(\"Привет!\")\n",
    "\n",
    "say_hello()"
   ]
  },
  {
   "cell_type": "markdown",
   "metadata": {},
   "source": [
    "### 2. Декоратор с аргументами\n",
    "Декораторы могут также работать с функциями, которые принимают аргументы. В следующем примере декоратор будет выводить сообщение о том, какие аргументы были переданы в функцию.\n"
   ]
  },
  {
   "cell_type": "code",
   "execution_count": null,
   "metadata": {},
   "outputs": [],
   "source": [
    "def decorator_with_args(func):\n",
    "    def wrapper(*args, **kwargs):\n",
    "        print(f\"Аргументы функции: {args}, {kwargs}\")\n",
    "        return func(*args, **kwargs)\n",
    "    return wrapper\n",
    "\n",
    "@decorator_with_args\n",
    "def greet(name, age):\n",
    "    print(f\"Привет, {name}! Тебе {age} лет.\")\n",
    "\n",
    "greet(\"Алексей\", 30)"
   ]
  },
  {
   "cell_type": "markdown",
   "metadata": {},
   "source": [
    "### 3. Декоратор с возвращаемым значением\n",
    "Декораторы могут изменять или обрабатывать возвращаемое значение функции. В следующем примере мы применяем декоратор, который изменяет результат функции."
   ]
  },
  {
   "cell_type": "code",
   "execution_count": null,
   "metadata": {},
   "outputs": [],
   "source": [
    "def multiply_result(func):\n",
    "    def wrapper(*args, **kwargs):\n",
    "        result = func(*args, **kwargs)\n",
    "        return result * 2\n",
    "    return wrapper\n",
    "\n",
    "@multiply_result\n",
    "def add(a, b):\n",
    "    return a + b\n",
    "\n",
    "print(add(3, 4))  # Результат 14 (7 * 2)"
   ]
  },
  {
   "cell_type": "markdown",
   "metadata": {},
   "source": [
    "### 4. Декоратор с параметрами\n",
    "Декораторы могут также принимать свои параметры, которые позволяют настроить их поведение. В этом примере декоратор принимает параметр times, который указывает, сколько раз следует выполнить декорированную функцию."
   ]
  },
  {
   "cell_type": "code",
   "execution_count": null,
   "metadata": {},
   "outputs": [],
   "source": [
    "def repeat(times):\n",
    "    def decorator(func):\n",
    "        def wrapper(*args, **kwargs):\n",
    "            for _ in range(times):\n",
    "                func(*args, **kwargs)\n",
    "        return wrapper\n",
    "    return decorator\n",
    "\n",
    "@repeat(3)\n",
    "def say_hi():\n",
    "    print(\"Привет!\")\n",
    "\n",
    "say_hi()"
   ]
  },
  {
   "cell_type": "markdown",
   "metadata": {},
   "source": [
    "## Задача: Декоратор для измерения времени выполнения функции\n",
    "\n",
    "Напишите декоратор, который измеряет время выполнения функции и выводит его в консоль. Декоратор должен печатать время, которое функция потратила на выполнение.\n",
    "\n",
    "### Требования:\n",
    "1. Декоратор должен принимать функцию, измерять время её выполнения и выводить на экран время в секундах.\n",
    "2. Используйте модуль `time` для замера времени.\n",
    "3. Примените декоратор к функции, которая выполняет длительную операцию, например, задержку с помощью `time.sleep()`."
   ]
  },
  {
   "cell_type": "code",
   "execution_count": null,
   "metadata": {},
   "outputs": [],
   "source": [
    "# YOUR CODE HERE"
   ]
  },
  {
   "cell_type": "markdown",
   "metadata": {},
   "source": [
    "## Работа с файлами в Python\n",
    "\n",
    "В Python работа с файлами является неотъемлемой частью программирования. Модуль `os` и встроенные функции позволяют эффективно читать, записывать и управлять файлами на диске.\n"
   ]
  },
  {
   "cell_type": "markdown",
   "metadata": {},
   "source": [
    "### Открытие и чтение файлов\n",
    "\n",
    "Для открытия и чтения файлов в Python используется встроенная функция `open()`. Она позволяет открыть файл для чтения, записи или добавления данных. Файлы, как правило, открываются в режиме текстового или бинарного ввода/вывода.\n"
   ]
  },
  {
   "cell_type": "code",
   "execution_count": null,
   "metadata": {},
   "outputs": [],
   "source": [
    "# Открытие файла в режиме чтения\n",
    "with open('example.txt', 'r') as file:\n",
    "    content = file.read()\n",
    "    print(content)"
   ]
  },
  {
   "cell_type": "markdown",
   "metadata": {},
   "source": [
    "### Запись в файл\n",
    "Функция `open()` также позволяет записывать данные в файл, используя режимы 'w' (перезапись файла) или 'a' (добавление в файл).\n",
    "\n"
   ]
  },
  {
   "cell_type": "code",
   "execution_count": null,
   "metadata": {},
   "outputs": [],
   "source": [
    "with open('output.txt', 'w') as file:\n",
    "    file.write(\"Привет, мир!\\n\")\n",
    "    file.write(\"Это второй строка в файле.\")\n"
   ]
  },
  {
   "cell_type": "code",
   "execution_count": null,
   "metadata": {},
   "outputs": [],
   "source": [
    "with open('output.txt', 'a') as file:\n",
    "    file.write(\"\\nДобавленная строка.\")"
   ]
  },
  {
   "cell_type": "markdown",
   "metadata": {},
   "source": [
    "## Итераторы и генераторы в Python\n",
    "\n",
    "Итераторы и генераторы — это важные концепции Python, которые позволяют работать с последовательностями данных, эффективно обрабатывая их в циклах или создавая ленивые вычисления.\n"
   ]
  },
  {
   "cell_type": "markdown",
   "metadata": {},
   "source": [
    "### Пользовательский итератор\n",
    "Для создания итератора нужно определить методы `__iter__()` (возвращает сам объект) и `__next__()` (генерирует следующее значение)."
   ]
  },
  {
   "cell_type": "code",
   "execution_count": null,
   "metadata": {},
   "outputs": [],
   "source": [
    "class Counter:\n",
    "    def __init__(self, start, end):\n",
    "        self.current = start\n",
    "        self.end = end\n",
    "\n",
    "    def __iter__(self):\n",
    "        return self\n",
    "\n",
    "    def __next__(self):\n",
    "        if self.current > self.end:\n",
    "            raise StopIteration\n",
    "        self.current += 1\n",
    "        return self.current - 1\n",
    "\n",
    "# Создание итератора\n",
    "counter = Counter(1, 5)\n",
    "\n",
    "# Использование в цикле\n",
    "for num in counter:\n",
    "    print(num)  # 1, 2, 3, 4, 5"
   ]
  },
  {
   "cell_type": "markdown",
   "metadata": {},
   "source": [
    "### Пользовательский генератор\n",
    "Генератор можно создать как функцию с использованием yield или как класс, реализующий метод `__iter__()` с логикой генерации."
   ]
  },
  {
   "cell_type": "code",
   "execution_count": null,
   "metadata": {},
   "outputs": [],
   "source": [
    "class FibonacciGenerator:\n",
    "    def __init__(self, n):\n",
    "        self.n = n\n",
    "\n",
    "    def __iter__(self):\n",
    "        a, b = 0, 1\n",
    "        count = 0\n",
    "        while count < self.n:\n",
    "            yield a\n",
    "            a, b = b, a + b\n",
    "            count += 1\n",
    "\n",
    "# Создание генератора\n",
    "fib = FibonacciGenerator(5)\n",
    "\n",
    "# Перебор значений\n",
    "for num in fib:\n",
    "    print(num)  # 0, 1, 1, 2, 3"
   ]
  },
  {
   "cell_type": "code",
   "execution_count": null,
   "metadata": {},
   "outputs": [],
   "source": [
    "def fibonacci(n):\n",
    "    a, b = 0, 1\n",
    "    for _ in range(n):\n",
    "        yield a\n",
    "        a, b = b, a + b\n",
    "\n",
    "# Использование генератора\n",
    "for num in fibonacci(5):\n",
    "    print(num)  # 0, 1, 1, 2, 3"
   ]
  },
  {
   "cell_type": "markdown",
   "metadata": {},
   "source": [
    "### Задача 1: Написание собственного итератора\n",
    "\n",
    "Создайте класс-итератор `PrimeIterator`, который возвращает простые числа в заданном диапазоне. \n",
    "\n",
    "#### Требования:\n",
    "1. Итератор должен принимать два аргумента: начальное значение диапазона и конечное значение диапазона.\n",
    "2. На каждой итерации должен возвращаться следующий простой число в диапазоне.\n",
    "3. Если диапазон не содержит простых чисел, итератор должен завершаться без вывода значений.\n"
   ]
  },
  {
   "cell_type": "code",
   "execution_count": null,
   "metadata": {},
   "outputs": [],
   "source": [
    "# YOUR CODE HERE\n",
    "\n",
    "prime_iter = PrimeIterator(10, 30)\n",
    "\n",
    "for prime in prime_iter:\n",
    "    print(prime)  # 11, 13, 17, 19, 23, 29"
   ]
  },
  {
   "cell_type": "markdown",
   "metadata": {},
   "source": [
    "### Задача 2: Генератор для бесконечной последовательности\n",
    "\n",
    "Напишите генератор `infinite_counter`, который возвращает числа, начиная с заданного значения `start` и увеличивая его на 1 на каждой итерации.\n",
    "\n",
    "#### Условия:\n",
    "1. Генератор должен принимать один аргумент `start` (целое число), который указывает начальное значение.\n",
    "2. На каждой итерации возвращается следующее число в последовательности.\n",
    "3. Генератор **не должен останавливаться** автоматически (бесконечная последовательность).\n",
    "\n",
    "#### Подсказка:\n",
    "Используйте цикл `while` внутри функции-генератора.\n"
   ]
  },
  {
   "cell_type": "code",
   "execution_count": null,
   "metadata": {},
   "outputs": [],
   "source": [
    "# YOUR CODE HERE\n",
    "\n",
    "counter = infinite_counter(5)\n",
    "\n",
    "for i in range(10):  # Ограничим вывод 10 числами\n",
    "    print(next(counter))"
   ]
  }
 ],
 "metadata": {
  "language_info": {
   "name": "python"
  }
 },
 "nbformat": 4,
 "nbformat_minor": 2
}
