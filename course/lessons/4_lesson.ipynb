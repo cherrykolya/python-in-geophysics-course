{
 "cells": [
  {
   "cell_type": "markdown",
   "metadata": {},
   "source": [
    "# Лекция 4: Библиотеки для обработки и визуализации данных"
   ]
  },
  {
   "cell_type": "markdown",
   "metadata": {},
   "source": [
    "## NumPy: Библиотека для работы с многомерными массивами\n",
    "\n",
    "**NumPy (Numerical Python)** — это библиотека для работы с числовыми данными в Python, которая предоставляет:\n",
    "\n",
    "1. **Многомерные массивы (ndarray)**:\n",
    "   - Быстродействующие массивы с фиксированным размером.\n",
    "   - Поддержка различных типов данных.\n",
    "\n",
    "2. **Векторизованные операции**:\n",
    "   - Высокопроизводительные арифметические операции без необходимости использовать циклы.\n",
    "\n",
    "3. **Функции для работы с массивами**:\n",
    "   - Создание, трансформация, индексация и сортировка массивов.\n",
    "\n",
    "4. **Математические операции**:\n",
    "   - Линейная алгебра, преобразование Фурье, статистика и работа с вероятностями.\n",
    "\n",
    "5. **Интеграция**:\n",
    "   - Совместимость с другими библиотеками, такими как SciPy, Pandas и Matplotlib.\n",
    "\n",
    "---\n",
    "\n",
    "### Преимущества NumPy:\n",
    "\n",
    "- Высокая скорость работы по сравнению с обычными Python списками.\n",
    "- Удобство работы с большими объемами данных.\n",
    "- Широкие возможности для научных вычислений.\n"
   ]
  },
  {
   "cell_type": "code",
   "execution_count": null,
   "metadata": {},
   "outputs": [],
   "source": [
    "import numpy as np\n",
    "\n",
    "# 1. Создание массива из списка\n",
    "arr1 = np.array([1, 2, 3, 4, 5])\n",
    "print(\"Массив из списка:\", arr1)\n",
    "\n",
    "# 2. Создание массива с заданными размерами и значениями\n",
    "arr2 = np.zeros((3, 4))  # 3 строки и 4 столбца, заполненные нулями\n",
    "print(\"Массив с нулями:\\n\", arr2)\n",
    "\n",
    "arr3 = np.ones((2, 3))   # 2 строки и 3 столбца, заполненные единицами\n",
    "print(\"Массив с единицами:\\n\", arr3)\n",
    "\n",
    "# 3. Создание массива с последовательными значениями\n",
    "arr4 = np.arange(0, 10, 2)  # От 0 до 10 с шагом 2\n",
    "print(\"Массив с шагом 2:\", arr4)\n",
    "\n",
    "# 4. Массив с равномерно распределёнными значениями\n",
    "arr5 = np.linspace(0, 1, 5)  # 5 чисел от 0 до 1\n",
    "print(\"Массив с равномерными значениями:\", arr5)\n",
    "\n",
    "# 5. Массив с случайными значениями\n",
    "arr6 = np.random.random((2, 3))  # 2 строки и 3 столбца случайных значений от 0 до 1\n",
    "print(\"Массив со случайными числами:\\n\", arr6)\n",
    "\n",
    "# 6. Изменение формы массива\n",
    "arr7 = np.array([1, 2, 3, 4, 5, 6])\n",
    "arr7 = arr7.reshape(2, 3)  # Преобразуем в 2 строки и 3 столбца\n",
    "print(\"Изменённый массив:\\n\", arr7)"
   ]
  },
  {
   "cell_type": "markdown",
   "metadata": {},
   "source": [
    "### Арифметические операции с массивами"
   ]
  },
  {
   "cell_type": "code",
   "execution_count": null,
   "metadata": {},
   "outputs": [],
   "source": [
    "import numpy as np\n",
    "\n",
    "# 1. Создание одномерного массива\n",
    "arr = np.array([1, 2, 3, 4, 5])\n",
    "print(\"Одномерный массив:\", arr)\n",
    "\n",
    "# 2. Операции с массивами\n",
    "arr2 = np.array([5, 4, 3, 2, 1])\n",
    "\n",
    "# Сложение массивов\n",
    "arr_sum = arr + arr2\n",
    "print(\"Результат сложения массивов:\", arr_sum)\n",
    "\n",
    "# Элементное умножение массивов\n",
    "arr_prod = arr * arr2\n",
    "print(\"Результат элементного умножения массивов:\", arr_prod)\n",
    "\n",
    "# 3. Операции с числами\n",
    "arr_add = arr + 2  # Добавление числа ко всем элементам массива\n",
    "print(\"Массив после добавления числа 2:\", arr_add)\n",
    "\n",
    "arr_mult = arr * 3  # Умножение всех элементов на число\n",
    "print(\"Массив после умножения на 3:\", arr_mult)\n",
    "\n",
    "# 4. Математические операции\n",
    "arr_sqrt = np.sqrt(arr)  # Квадратный корень от каждого элемента\n",
    "print(\"Квадратный корень от элементов массива:\", arr_sqrt)\n",
    "\n",
    "arr_exp = np.exp(arr)  # Экспонента от каждого элемента\n",
    "print(\"Экспонента от элементов массива:\", arr_exp)\n",
    "\n",
    "# 5. Операции агрегации\n",
    "arr_sum = arr.sum()  # Сумма всех элементов массива\n",
    "print(\"Сумма элементов массива:\", arr_sum)\n",
    "\n",
    "arr_mean = arr.mean()  # Среднее значение\n",
    "print(\"Среднее значение массива:\", arr_mean)\n",
    "\n",
    "arr_min = arr.min()  # Минимальное значение\n",
    "print(\"Минимальное значение массива:\", arr_min)\n",
    "\n",
    "arr_max = arr.max()  # Максимальное значение\n",
    "print(\"Максимальное значение массива:\", arr_max)"
   ]
  },
  {
   "cell_type": "markdown",
   "metadata": {},
   "source": [
    "### Многомерные массивы"
   ]
  },
  {
   "cell_type": "code",
   "execution_count": null,
   "metadata": {},
   "outputs": [],
   "source": [
    "# 1. Создание многомерного массива\n",
    "arr = np.array([[1, 2, 3], [4, 5, 6], [7, 8, 9]])\n",
    "print(\"Многомерный массив:\\n\", arr)\n",
    "\n",
    "# 2. Доступ к элементам массива\n",
    "print(\"Первый элемент в первой строке:\", arr[0, 0])  # Доступ к элементу на первой строке и первом столбце\n",
    "print(\"Все элементы второй строки:\", arr[1, :])  # Все элементы второй строки\n",
    "print(\"Все элементы второго столбца:\", arr[:, 1])  # Все элементы второго столбца\n",
    "\n",
    "# 3. Индексация с использованием срезов\n",
    "print(\"Первые две строки:\\n\", arr[:2, :])  # Срез: первые две строки\n",
    "print(\"Третий столбец:\\n\", arr[:, 2])  # Срез: третий столбец\n",
    "\n",
    "# 4. Транспонирование массива\n",
    "arr_transpose = arr.T\n",
    "print(\"Транспонированный массив:\\n\", arr_transpose)\n",
    "\n",
    "# 5. Изменение формы массива\n",
    "arr_reshaped = arr.reshape(1, 9)  # Преобразуем массив в одну строку с 9 столбцами\n",
    "print(\"Изменённый массив (1 строка, 9 столбцов):\\n\", arr_reshaped)\n",
    "\n",
    "# 6. Операции с многомерными массивами\n",
    "arr2 = np.array([[1, 1, 1], [1, 1, 1], [1, 1, 1]])\n",
    "arr_sum = arr + arr2  # Сложение двух многомерных массивов\n",
    "print(\"Результат сложения массивов:\\n\", arr_sum)\n",
    "\n",
    "arr_prod = arr * arr2  # Элементное умножение двух массивов\n",
    "print(\"Результат элементного умножения массивов:\\n\", arr_prod)\n",
    "\n",
    "# 7. Математические операции по осям\n",
    "row_sum = arr.sum(axis=1)  # Сумма по строкам\n",
    "print(\"Сумма по строкам:\", row_sum)\n",
    "\n",
    "col_sum = arr.sum(axis=0)  # Сумма по столбцам\n",
    "print(\"Сумма по столбцам:\", col_sum)\n",
    "\n",
    "# 8. Применение универсальных функций\n",
    "arr_sqrt = np.sqrt(arr)  # Квадратный корень от каждого элемента массива\n",
    "print(\"Квадратный корень от элементов массива:\\n\", arr_sqrt)"
   ]
  },
  {
   "cell_type": "markdown",
   "metadata": {},
   "source": [
    "### Задача 1: Манипуляции с одномерным массивом\n",
    "\n",
    "Создайте одномерный массив NumPy из чисел от 1 до 10. Выполните следующие операции:\n",
    "\n",
    "1. Умножьте все элементы массива на 3.\n",
    "2. Добавьте 5 к каждому элементу массива.\n",
    "3. Найдите сумму всех элементов массива.\n",
    "4. Найдите среднее значение элементов массива.\n",
    "5. Создайте новый массив, в котором каждый элемент является квадратом соответствующего элемента исходного массива.\n"
   ]
  },
  {
   "cell_type": "code",
   "execution_count": 5,
   "metadata": {},
   "outputs": [],
   "source": [
    "# YOUR CODE HERE"
   ]
  },
  {
   "cell_type": "markdown",
   "metadata": {},
   "source": [
    "\n",
    "### Задача 2: Операции с многомерным массивом\n",
    "\n",
    "Создайте двумерный массив NumPy размером 3x3 с числами от 1 до 9. Выполните следующие операции:\n",
    "\n",
    "1. Транспонируйте массив.\n",
    "2. Найдите сумму всех элементов в каждой строке.\n",
    "3. Вычислите среднее значение для каждого столбца.\n",
    "4. Умножьте каждый элемент массива на 2 и сохраните результат в новый массив.\n",
    "5. Выведите минимальное и максимальное значения в массиве."
   ]
  },
  {
   "cell_type": "code",
   "execution_count": 6,
   "metadata": {},
   "outputs": [],
   "source": [
    "# YOUR CODE HERE"
   ]
  },
  {
   "cell_type": "markdown",
   "metadata": {},
   "source": [
    "## Pandas библиотека для работы с табличными данными\n",
    "\n",
    "Pandas — это одна из самых популярных библиотек Python для работы с данными. Она предоставляет высокоуровневые структуры данных и инструменты для анализа данных, обработки и манипуляции с ними. \n",
    "\n",
    "Основные особенности библиотеки Pandas:\n",
    "\n",
    "1. **Работа с табличными данными**: Pandas предоставляет два основных типа данных — `Series` (для одномерных данных) и `DataFrame` (для двумерных данных), что идеально подходит для работы с таблицами и данными, структурированными по строкам и столбцам.\n",
    "\n",
    "2. **Загрузка данных**: Pandas позволяет легко загружать данные из различных источников, таких как CSV, Excel, базы данных SQL и других форматов.\n",
    "\n",
    "3. **Обработка данных**: Библиотека позволяет удобно обрабатывать пропущенные значения, преобразовывать данные, фильтровать, агрегировать и группировать данные, а также выполнять сложные операции с временными рядами.\n",
    "\n",
    "4. **Мощные возможности для анализа данных**: С помощью Pandas можно быстро анализировать, обрабатывать и трансформировать данные, проводить статистический анализ, строить сводные таблицы и многое другое.\n",
    "\n",
    "Pandas является неотъемлемой частью работы с данными в Python и часто используется в научных исследованиях, машинном обучении и аналитике данных.\n"
   ]
  },
  {
   "cell_type": "markdown",
   "metadata": {},
   "source": [
    "## Основная работа с сущностью `Series` в Pandas\n",
    "\n",
    "`Series` — это одномерный массив с метками (индексами), который можно считать аналогом списка или массива в других языках программирования. В отличие от стандартных списков Python, `Series` поддерживает индексацию, что позволяет обращаться к элементам по метке, а не только по числовому индексу.\n"
   ]
  },
  {
   "cell_type": "code",
   "execution_count": null,
   "metadata": {},
   "outputs": [],
   "source": [
    "import pandas as pd\n",
    "\n",
    "# Создание Series из списка\n",
    "data = [10, 20, 30, 40, 50]\n",
    "series = pd.Series(data)\n",
    "\n",
    "print(\"Series без индексов:\")\n",
    "print(series)\n",
    "\n",
    "# Создание Series с указанием индексов\n",
    "index = ['a', 'b', 'c', 'd', 'e']\n",
    "series_with_index = pd.Series(data, index=index)\n",
    "\n",
    "print(\"\\nSeries с индексами:\")\n",
    "print(series_with_index)\n",
    "\n",
    "# Обращение к элементу по индексу\n",
    "print(\"\\nЭлемент с индексом 'c':\", series_with_index['c'])\n",
    "\n",
    "# Описание статистики\n",
    "print(\"\\nСтатистические данные о Series:\")\n",
    "print(series_with_index.describe())"
   ]
  },
  {
   "cell_type": "markdown",
   "metadata": {},
   "source": [
    "### Основная работа с сущностью `DataFrame` в Pandas\n",
    "\n",
    "`DataFrame` — это двумерная структура данных в Pandas, аналог таблицы, которая состоит из строк и столбцов. В отличие от обычных списков или массивов, DataFrame поддерживает как индекс по строкам, так и метки для столбцов. Это делает его удобным для работы с табличными данными."
   ]
  },
  {
   "cell_type": "code",
   "execution_count": null,
   "metadata": {},
   "outputs": [],
   "source": [
    "\n",
    "import pandas as pd\n",
    "\n",
    "# Создание DataFrame из словаря\n",
    "data = {\n",
    "    'Name': ['Alice', 'Bob', 'Charlie', 'David', 'Eva'],\n",
    "    'Age': [25, 30, 35, 40, 45],\n",
    "    'Salary': [50000, 55000, 60000, 65000, 70000]\n",
    "}\n",
    "\n",
    "df = pd.DataFrame(data)\n",
    "\n",
    "print(\"DataFrame из словаря:\")\n",
    "print(df)\n",
    "\n",
    "# Создание DataFrame из списка списков с указанием индексов и столбцов\n",
    "data2 = [\n",
    "    ['Alice', 25, 50000],\n",
    "    ['Bob', 30, 55000],\n",
    "    ['Charlie', 35, 60000]\n",
    "]\n",
    "\n",
    "columns = ['Name', 'Age', 'Salary']\n",
    "df2 = pd.DataFrame(data2, columns=columns)\n",
    "\n",
    "print(\"\\nDataFrame из списка списков:\")\n",
    "print(df2)\n",
    "\n",
    "# Обращение к данным по индексу и столбцу\n",
    "print(\"\\nВозраст Bob:\", df['Age'][1])\n",
    "\n",
    "# Описание статистики по DataFrame\n",
    "print(\"\\nСтатистические данные по DataFrame:\")\n",
    "print(df.describe())\n",
    "\n",
    "# Выбор данных по условию\n",
    "print(\"\\nТаблица с зарплатой больше 60000:\")\n",
    "print(df[df['Salary'] > 60000])"
   ]
  },
  {
   "cell_type": "markdown",
   "metadata": {},
   "source": [
    "### Возможные способы Обращения к столбцу DataFrame"
   ]
  },
  {
   "cell_type": "code",
   "execution_count": null,
   "metadata": {},
   "outputs": [],
   "source": [
    "# 1. Через название столбца:\n",
    "\n",
    "print(df['Name'])  # Выводит столбец 'Name'\n",
    "print(df['Age'])   # Выводит столбец 'Age'\n",
    "\n",
    "# 2. Через атрибут: Если имя столбца является валидным атрибутом (не содержит пробелов и специальных символов), можно обратиться через точечную нотацию\n",
    "\n",
    "print(df.Name)  # Выводит столбец 'Name'\n",
    "\n",
    "# 3. Метод .loc[] для обращения по меткам:\n",
    "\n",
    "print(df.loc[:, 'Salary'])  # Все строки столбца 'Salary'\n",
    "\n",
    "# 4. Через индекс с .iloc[] (индексация по порядковому номеру):\n",
    "\n",
    "print(df.iloc[0])  # Первая строка DataFrame\n",
    "print(df.iloc[2])  # Третья строка DataFrame"
   ]
  },
  {
   "cell_type": "markdown",
   "metadata": {},
   "source": [
    "### Замена недостающих данных в Pandas\n",
    "\n",
    "В библиотеке Pandas существует несколько методов для обработки недостающих данных (NaN). Замену пропущенных значений можно выполнять с использованием различных стратегий, таких как замена на фиксированное значение, использование статистических показателей (среднее, медиана, мода) или даже использование методов интерполяции.\n",
    "\n",
    "#### 1. **Проверка на пропущенные значения**\n",
    "\n",
    "Перед тем как работать с недостающими значениями, важно узнать, сколько таких значений присутствует в данных:"
   ]
  },
  {
   "cell_type": "code",
   "execution_count": 22,
   "metadata": {},
   "outputs": [
    {
     "name": "stdout",
     "output_type": "stream",
     "text": [
      "    Name    Age   City\n",
      "0  False  False  False\n",
      "1  False   True  False\n",
      "2  False  False  False\n",
      "3  False   True   True\n",
      "4  False  False  False\n",
      "Name    0\n",
      "Age     2\n",
      "City    1\n",
      "dtype: int64\n"
     ]
    }
   ],
   "source": [
    "# Создаем пример DataFrame\n",
    "data = {'Name': ['Alice', 'Bob', 'Charlie', 'David', 'Edward'],\n",
    "        'Age': [25, None, 30, None, 22],\n",
    "        'City': ['New York', 'Los Angeles', 'New York', None, 'Boston']}\n",
    "\n",
    "df = pd.DataFrame(data)\n",
    "\n",
    "# Проверка на пропущенные значения\n",
    "print(df.isnull())  # Возвращает DataFrame с булевыми значениями (True для NaN, False для остальных)\n",
    "print(df.isnull().sum())  # Сумма пропущенных значений по каждому столбцу"
   ]
  },
  {
   "cell_type": "markdown",
   "metadata": {},
   "source": [
    "#### 2. **Cпособы замены пропущенных значений**"
   ]
  },
  {
   "cell_type": "markdown",
   "metadata": {},
   "source": [
    "##### **Замена на фиксированное значение**"
   ]
  },
  {
   "cell_type": "code",
   "execution_count": null,
   "metadata": {},
   "outputs": [],
   "source": [
    "# Заменяем все пропущенные значения в столбце 'Age' на 0\n",
    "df['Age'] = df['Age'].fillna(0)\n",
    "print(df)"
   ]
  },
  {
   "cell_type": "markdown",
   "metadata": {},
   "source": [
    "##### **Замена на среднее, медиану или моду**"
   ]
  },
  {
   "cell_type": "code",
   "execution_count": null,
   "metadata": {},
   "outputs": [],
   "source": [
    "# Замена на среднее значение в столбце 'Age'\n",
    "df['Age'] = df['Age'].fillna(df['Age'].mean())\n",
    "\n",
    "# Замена на медиану в столбце 'Age'\n",
    "df['Age'] = df['Age'].fillna(df['Age'].median())\n",
    "\n",
    "# Замена на моду в столбце 'City'\n",
    "df['City'] = df['City'].fillna(df['City'].mode()[0])\n",
    "\n",
    "print(df)"
   ]
  },
  {
   "cell_type": "markdown",
   "metadata": {},
   "source": [
    "##### **Заполнение на основе других столбцов (например, с помощью forward fill или backward fill)у**"
   ]
  },
  {
   "cell_type": "code",
   "execution_count": null,
   "metadata": {},
   "outputs": [],
   "source": [
    "# Заполнение пропущенных значений в столбце 'City' значением из предыдущей строки\n",
    "df['City'] = df['City'].fillna(method='ffill')\n",
    "df"
   ]
  },
  {
   "cell_type": "markdown",
   "metadata": {},
   "source": [
    "##### **Удаление строк с пропущенными значениями**"
   ]
  },
  {
   "cell_type": "code",
   "execution_count": null,
   "metadata": {},
   "outputs": [],
   "source": [
    "# Удаление всех строк, где есть хотя бы одно пропущенное значение\n",
    "df.dropna(inplace=True)\n",
    "\n",
    "# Удаление всех столбцов, где есть хотя бы одно пропущенное значение\n",
    "df.dropna(axis=1, inplace=True)\n",
    "print(df)"
   ]
  },
  {
   "cell_type": "markdown",
   "metadata": {},
   "source": [
    "##### **Использование метода replace**"
   ]
  },
  {
   "cell_type": "code",
   "execution_count": null,
   "metadata": {},
   "outputs": [],
   "source": [
    "# Замена конкретных значений на другие\n",
    "df.replace({None: 0}, inplace=True)  # Заменяет все None на 0\n",
    "print(df)"
   ]
  },
  {
   "cell_type": "markdown",
   "metadata": {},
   "source": [
    "### Фильтрация столбцов\n",
    "\n",
    "Для того чтобы выбрать один или несколько столбцов в DataFrame, можно использовать синтаксис:"
   ]
  },
  {
   "cell_type": "code",
   "execution_count": null,
   "metadata": {},
   "outputs": [],
   "source": [
    "# Создадим DataFrame\n",
    "data = {'Name': ['Alice', 'Bob', 'Charlie', 'David'],\n",
    "        'Age': [25, 30, 35, 40],\n",
    "        'City': ['New York', 'Los Angeles', 'Chicago', 'Houston']}\n",
    "df = pd.DataFrame(data)\n",
    "\n",
    "# Выбор одного столбца\n",
    "age_column = df['Age']\n",
    "print(age_column)\n",
    "\n",
    "# Выбор нескольких столбцов\n",
    "name_city_columns = df[['Name', 'City']]\n",
    "print(name_city_columns)"
   ]
  },
  {
   "cell_type": "markdown",
   "metadata": {},
   "source": [
    "#### Фильтрация строк по условиям\n",
    "Для фильтрации строк по определённым условиям, можно использовать логические выражения внутри DataFrame:"
   ]
  },
  {
   "cell_type": "code",
   "execution_count": null,
   "metadata": {},
   "outputs": [],
   "source": [
    "# Фильтрация строк, где возраст больше 30\n",
    "older_than_30 = df[df['Age'] > 30]\n",
    "print(older_than_30)\n",
    "\n",
    "# Фильтрация строк, где город - 'Chicago'\n",
    "chicago_residents = df[df['City'] == 'Chicago']\n",
    "print(chicago_residents)"
   ]
  },
  {
   "cell_type": "markdown",
   "metadata": {},
   "source": [
    "####  Фильтрация строк с использованием нескольких условий\n",
    "Можно комбинировать несколько условий с операторами `&` (и), `|` (или). Важно помнить, что каждое условие должно быть заключено в скобки:"
   ]
  },
  {
   "cell_type": "code",
   "execution_count": null,
   "metadata": {},
   "outputs": [],
   "source": [
    "# Фильтрация строк, где возраст больше 30 и город 'Chicago'\n",
    "filtered_df = df[(df['Age'] > 30) & (df['City'] == 'Chicago')]\n",
    "print(filtered_df)\n",
    "\n",
    "# Фильтрация строк, где возраст меньше 30 или город 'Houston'\n",
    "filtered_df = df[(df['Age'] < 30) | (df['City'] == 'Houston')]\n",
    "print(filtered_df)"
   ]
  },
  {
   "cell_type": "markdown",
   "metadata": {},
   "source": [
    "### Чтение и сохранение таблиц с помощью pandas\n",
    "\n",
    "Для чтения данных из CSV файла можно использовать функцию `read_csv()`:\n"
   ]
  },
  {
   "cell_type": "code",
   "execution_count": null,
   "metadata": {},
   "outputs": [],
   "source": [
    "# Чтение данных из CSV файла\n",
    "df = pd.read_csv('data.csv')\n",
    "print(df)"
   ]
  },
  {
   "cell_type": "markdown",
   "metadata": {},
   "source": [
    "#### Сохранение таблицы в CSV файл"
   ]
  },
  {
   "cell_type": "code",
   "execution_count": 29,
   "metadata": {},
   "outputs": [],
   "source": [
    "df.to_csv('output.csv', index=False)"
   ]
  },
  {
   "cell_type": "markdown",
   "metadata": {},
   "source": [
    "### Основной функционал библиотеки Matplotlib\n",
    "\n",
    "**Matplotlib** — это популярная библиотека для создания статичных, анимационных и интерактивных графиков в Python. Она используется для визуализации данных и предоставляет гибкие инструменты для построения разнообразных графиков. Рассмотрим основные возможности библиотеки.\n",
    "\n",
    "### 1. **Основные графики**\n",
    "\n",
    "Matplotlib поддерживает широкий спектр графиков, таких как линейные графики, гистограммы, диаграммы рассеяния, круговые диаграммы и другие.\n"
   ]
  },
  {
   "cell_type": "code",
   "execution_count": 43,
   "metadata": {},
   "outputs": [
    {
     "data": {
      "image/png": "[encoded data removed]",
      "text/plain": [
       "<Figure size 640x480 with 1 Axes>"
      ]
     },
     "metadata": {},
     "output_type": "display_data"
    }
   ],
   "source": [
    "import matplotlib.pyplot as plt\n",
    "\n",
    "# Данные для графика\n",
    "x = np.array([1, 2, 3, 4, 5])\n",
    "y = np.array([2, 3, 5, 7, 11])\n",
    "\n",
    "# Построение графика\n",
    "plt.plot(x, y)\n",
    "plt.xlabel('X-axis')\n",
    "plt.ylabel('Y-axis')\n",
    "plt.title('Линейный график')\n",
    "plt.xlim((x.min(), x.max()))\n",
    "plt.ylim((y.min(), y.max()))\n",
    "plt.grid()\n",
    "plt.show()"
   ]
  },
  {
   "cell_type": "markdown",
   "metadata": {},
   "source": [
    "### Поточечные графики (Scatter Plots)\n",
    "\n",
    "Диаграмма рассеяния используется для отображения взаимосвязи между двумя переменными."
   ]
  },
  {
   "cell_type": "code",
   "execution_count": null,
   "metadata": {},
   "outputs": [],
   "source": [
    "# Данные для диаграммы рассеяния\n",
    "x = [1, 2, 3, 4, 5]\n",
    "y = [2, 4, 6, 8, 10]\n",
    "\n",
    "# Построение диаграммы рассеяния\n",
    "plt.scatter(x, y)\n",
    "plt.xlabel('X')\n",
    "plt.ylabel('Y')\n",
    "plt.title('Диаграмма рассеяния')\n",
    "plt.show()"
   ]
  },
  {
   "cell_type": "markdown",
   "metadata": {},
   "source": [
    "### Визуализация изображений"
   ]
  },
  {
   "cell_type": "code",
   "execution_count": null,
   "metadata": {},
   "outputs": [],
   "source": [
    "# Генерация случайного изображения (массив случайных чисел)\n",
    "height, width = 256, 256  # Размеры изображения\n",
    "random_image = np.random.random((height, width))\n",
    "\n",
    "# Визуализация изображения\n",
    "plt.imshow(random_image, cmap='viridis', interpolation='nearest')\n",
    "plt.colorbar()  # Добавляем цветовую шкалу\n",
    "plt.title('Случайное изображение')\n",
    "plt.show()\n"
   ]
  },
  {
   "cell_type": "code",
   "execution_count": null,
   "metadata": {},
   "outputs": [],
   "source": [
    "import numpy as np\n",
    "import matplotlib.pyplot as plt\n",
    "from matplotlib.axes import Axes\n",
    "\n",
    "# Количество картинок\n",
    "N = 11  # Например, 12 изображений\n",
    "\n",
    "# Генерация случайных изображений\n",
    "images = [np.random.random((10, 10)) for _ in range(N)]\n",
    "\n",
    "# Определим количество строк и столбцов в гриде\n",
    "rows = int(np.ceil(np.sqrt(N)))  # Количество строк\n",
    "cols = int(np.ceil(N / rows))    # Количество столбцов\n",
    "\n",
    "# Создаем фигуру и оси\n",
    "fig, axes = plt.subplots(rows, cols, figsize=(cols * 4, rows * 4))\n",
    "\n",
    "# Плоский список осей для удобства\n",
    "axes: list[Axes] = axes.flatten()\n",
    "\n",
    "# Отображаем изображения\n",
    "for i in range(N):\n",
    "    axes[i].imshow(images[i], cmap='viridis')\n",
    "\n",
    "# Скрываем оси для лишних пустых субплотов, если есть\n",
    "for i in range(N, len(axes)):\n",
    "    axes[i].axis('off')\n",
    "\n",
    "# Показываем результат\n",
    "plt.tight_layout()\n",
    "plt.show()\n"
   ]
  }
 ],
 "metadata": {
  "kernelspec": {
   "display_name": ".venv",
   "language": "python",
   "name": "python3"
  },
  "language_info": {
   "codemirror_mode": {
    "name": "ipython",
    "version": 3
   },
   "file_extension": ".py",
   "mimetype": "text/x-python",
   "name": "python",
   "nbconvert_exporter": "python",
   "pygments_lexer": "ipython3",
   "version": "3.11.9"
  }
 },
 "nbformat": 4,
 "nbformat_minor": 2
}
