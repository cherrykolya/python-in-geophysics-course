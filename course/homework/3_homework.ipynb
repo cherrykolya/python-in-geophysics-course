{
 "cells": [
  {
   "cell_type": "code",
   "execution_count": null,
   "metadata": {},
   "outputs": [],
   "source": []
  },
  {
   "cell_type": "markdown",
   "metadata": {},
   "source": [
    "## Задача 1: Оптимизация чтения и записи из файлов с помощью `ThreadPoolExecutor`\n",
    "\n",
    "**Цель:**  \n",
    "Написать программу, которая эффективно выполняет следующие операции с использованием многопоточности:\n",
    "\n",
    "1. **Чтение данных из нескольких файлов.**  \n",
    "   Каждый файл содержит набор строк.\n",
    "\n",
    "2. **Обработка данных:**  \n",
    "   - Каждая строка в файле должна быть инвертирована (перевернута).\n",
    "\n",
    "3. **Запись результатов:**  \n",
    "   - Создать новый файл, куда записываются обработанные строки.\n",
    "\n",
    "4. **Использовать `ThreadPoolExecutor` для параллельного выполнения операций.**\n",
    "\n",
    "---\n",
    "\n",
    "### Условия:\n",
    "\n",
    "1. Напишите функцию `process_file(input_file: str, output_file: str)`, которая:  \n",
    "   - Читает строки из `input_file`.\n",
    "   - Инвертирует каждую строку.\n",
    "   - Записывает обработанные строки в `output_file`.\n",
    "\n",
    "2. Создайте главный метод `main`, который:  \n",
    "   - Имеет список входных файлов `input_files` и список выходных файлов `output_files` (по одному на каждый входной файл).\n",
    "   - Использует `ThreadPoolExecutor` для обработки файлов параллельно.\n"
   ]
  },
  {
   "cell_type": "code",
   "execution_count": null,
   "metadata": {},
   "outputs": [],
   "source": [
    "# YOUR CODE HERE"
   ]
  },
  {
   "cell_type": "markdown",
   "metadata": {},
   "source": [
    "## Задача 2: Проектирование системы управления заказами в магазине\n",
    "\n",
    "**Цель:**  \n",
    "Спроектировать систему для управления заказами в интернет-магазине, соблюдая принципы SOLID.\n",
    "\n",
    "---\n",
    "\n",
    "### Условия:\n",
    "\n",
    "1. Реализуйте класс `Order`, который:  \n",
    "   - Хранит информацию о заказе (например, список товаров и их количество).  \n",
    "   - Имеет метод для расчета общей стоимости заказа.  \n",
    "\n",
    "2. Реализуйте класс `PaymentProcessor`, который:  \n",
    "   - Выполняет обработку оплаты.  \n",
    "   - Поддерживает разные методы оплаты (например, кредитная карта, PayPal).\n",
    "\n",
    "### Задача:  \n",
    "- Спроектируйте классы с методами и атрибутами.  \n",
    "- Напишите основной метод, демонстрирующий создание заказа, расчет его стоимости, выбор метода оплаты и выполнение транзакции. "
   ]
  },
  {
   "cell_type": "code",
   "execution_count": null,
   "metadata": {},
   "outputs": [],
   "source": [
    "# YOUR CODE HERE"
   ]
  },
  {
   "cell_type": "markdown",
   "metadata": {},
   "source": [
    "\n",
    "## Задача 3: Рефакторинг кода класса Report\n",
    "Условие:\n",
    "Класс Report нарушает несколько принципов `SOLID`:\n",
    "\n",
    "Задача: Отрефакторьте класс Report, чтобы он:\n",
    "Соответствовал принципам SOLID.\n",
    "- Поддерживал возможность добавления новых форматов (например, Excel) без изменения существующего кода.\n",
    "- Подумайте, как можно разделить обязанности между различными классами и реализовать архитектуру, устойчивую к изменениям."
   ]
  },
  {
   "cell_type": "code",
   "execution_count": null,
   "metadata": {},
   "outputs": [],
   "source": [
    "class Report:\n",
    "    def __init__(self, data):\n",
    "        self.data = data\n",
    "\n",
    "    def generate_html(self):\n",
    "        html = \"<html><body><h1>Report</h1><ul>\"\n",
    "        for item in self.data:\n",
    "            html += f\"<li>{item}</li>\"\n",
    "        html += \"</ul></body></html>\"\n",
    "        return html\n",
    "\n",
    "    def generate_pdf(self):\n",
    "        print(\"Generating PDF report...\")\n",
    "        # Логика генерации PDF\n",
    "        return \"PDF Report\"\n",
    "\n",
    "    def save_to_file(self, filename):\n",
    "        with open(filename, \"w\") as file:\n",
    "            file.write(self.generate_html())\n",
    "        print(f\"Report saved to {filename}\")\n",
    "\n",
    "    def send_by_email(self, email):\n",
    "        print(f\"Sending report to {email}...\")\n",
    "        # Логика отправки email\n",
    "\n",
    "# Пример использования\n",
    "data = [\"Item 1\", \"Item 2\", \"Item 3\"]\n",
    "report = Report(data)\n",
    "\n",
    "# Генерация HTML\n",
    "html = report.generate_html()\n",
    "print(html)\n",
    "\n",
    "# Сохранение в файл\n",
    "report.save_to_file(\"report.html\")\n",
    "\n",
    "# Отправка по email\n",
    "report.send_by_email(\"example@example.com\")\n"
   ]
  }
 ],
 "metadata": {
  "language_info": {
   "name": "python"
  }
 },
 "nbformat": 4,
 "nbformat_minor": 2
}
